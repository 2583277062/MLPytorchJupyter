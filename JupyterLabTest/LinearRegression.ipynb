{
 "cells": [
  {
   "cell_type": "code",
   "execution_count": 49,
   "id": "ef0291d5-6398-437d-8d0c-681f9572e5c3",
   "metadata": {},
   "outputs": [],
   "source": [
    "%matplotlib inline\n",
    "import random\n",
    "import torch\n",
    "from d2l import torch as d2l"
   ]
  },
  {
   "cell_type": "code",
   "execution_count": 50,
   "id": "e04bcc87-f8d5-4ac2-afad-f592d809f7e2",
   "metadata": {},
   "outputs": [],
   "source": [
    "def synthetic_data(w,b,num_examples):\n",
    "    X = torch.normal(0,1,(num_examples,len(w)))\n",
    "    y = torch.matmul(X,w)+b\n",
    "    y += torch.normal(0,0.01,y.shape)\n",
    "    return X,y.reshape((-1,1))"
   ]
  },
  {
   "cell_type": "code",
   "execution_count": 51,
   "id": "548baf1b-7eb4-4644-a7cc-632682c13411",
   "metadata": {},
   "outputs": [],
   "source": [
    "true_w = torch.tensor([2, -3.4])\n",
    "true_b = 4.2\n",
    "features, labels = synthetic_data(true_w, true_b, 1000)"
   ]
  },
  {
   "cell_type": "code",
   "execution_count": 52,
   "id": "bdbd0014-a476-45b4-9504-5169588efe79",
   "metadata": {},
   "outputs": [],
   "source": [
    "def data_iter(batch_size, features, labels):\n",
    "    num_examples = len(features)\n",
    "    indices = list(range(num_examples))\n",
    "    random.shuffle(indices)\n",
    "    for i in range(0,num_examples,batch_size):\n",
    "        batch_indices = torch.tensor(indices[i:min(i+batch_size,num_examples)])\n",
    "        yield features[batch_indices], labels[batch_indices]"
   ]
  },
  {
   "cell_type": "code",
   "execution_count": 53,
   "id": "62c785da-34ed-4d71-9090-c68507756aea",
   "metadata": {},
   "outputs": [
    {
     "data": {
      "text/plain": [
       "torch.Size([1000, 2])"
      ]
     },
     "execution_count": 53,
     "metadata": {},
     "output_type": "execute_result"
    }
   ],
   "source": [
    "features.shape"
   ]
  },
  {
   "cell_type": "code",
   "execution_count": 54,
   "id": "5d97c6a6-6d32-4a8f-8e89-692b7e1a44fe",
   "metadata": {},
   "outputs": [
    {
     "data": {
      "text/plain": [
       "torch.Size([1000, 1])"
      ]
     },
     "execution_count": 54,
     "metadata": {},
     "output_type": "execute_result"
    }
   ],
   "source": [
    "labels.shape"
   ]
  },
  {
   "cell_type": "code",
   "execution_count": 55,
   "id": "e692c873-7c54-4e0a-bc31-be22b1e4c1b3",
   "metadata": {},
   "outputs": [
    {
     "name": "stdout",
     "output_type": "stream",
     "text": [
      "tensor([[ 1.2844,  0.2841],\n",
      "        [ 2.1973, -1.3253],\n",
      "        [ 2.0058,  2.1325],\n",
      "        [ 0.8425, -0.0638],\n",
      "        [ 1.1839,  1.0073],\n",
      "        [ 1.4181,  1.3691],\n",
      "        [ 1.4750,  0.1625],\n",
      "        [ 0.2286,  0.7548],\n",
      "        [ 0.7417,  0.5950],\n",
      "        [-0.4007, -0.5429]]) \n",
      " tensor([[ 5.7942],\n",
      "        [13.1101],\n",
      "        [ 0.9623],\n",
      "        [ 6.0913],\n",
      "        [ 3.1542],\n",
      "        [ 2.3648],\n",
      "        [ 6.6182],\n",
      "        [ 2.0929],\n",
      "        [ 3.6485],\n",
      "        [ 5.2589]])\n"
     ]
    }
   ],
   "source": [
    "for X,y in data_iter(10, features,labels):\n",
    "    print(X,'\\n',y)\n",
    "    break"
   ]
  },
  {
   "cell_type": "code",
   "execution_count": 56,
   "id": "128395c4-7c60-4061-8067-1243ee37b70b",
   "metadata": {},
   "outputs": [],
   "source": [
    "w = torch.normal(0, 0.01, size=(2,1), requires_grad=True)\n",
    "b = torch.zeros(1, requires_grad=True)"
   ]
  },
  {
   "cell_type": "code",
   "execution_count": 57,
   "id": "c249bb2e-a437-4f82-adcb-b5d9152b6ee3",
   "metadata": {},
   "outputs": [
    {
     "data": {
      "text/plain": [
       "tensor([[ 0.0083],\n",
       "        [-0.0057]], requires_grad=True)"
      ]
     },
     "execution_count": 57,
     "metadata": {},
     "output_type": "execute_result"
    }
   ],
   "source": [
    "w"
   ]
  },
  {
   "cell_type": "code",
   "execution_count": 58,
   "id": "89a4f327-da8f-4774-a668-94882861cf3b",
   "metadata": {},
   "outputs": [
    {
     "data": {
      "text/plain": [
       "tensor([0.], requires_grad=True)"
      ]
     },
     "execution_count": 58,
     "metadata": {},
     "output_type": "execute_result"
    }
   ],
   "source": [
    "b"
   ]
  },
  {
   "cell_type": "code",
   "execution_count": 59,
   "id": "7e41e8af-c4f6-4286-b36f-fe749d92eadc",
   "metadata": {},
   "outputs": [],
   "source": [
    "def linreg(X, w, b):  #@save\n",
    "    \"\"\"线性回归模型。\"\"\"\n",
    "    return torch.matmul(X, w) + b"
   ]
  },
  {
   "cell_type": "code",
   "execution_count": 60,
   "id": "eb6e6a22-a95d-4329-89a7-aefa3edc4a04",
   "metadata": {},
   "outputs": [],
   "source": [
    "def squared_loss(y_hat, y):  #@save\n",
    "    \"\"\"均方损失。\"\"\"\n",
    "    return (y_hat - y.reshape(y_hat.shape)) ** 2 / 2"
   ]
  },
  {
   "cell_type": "code",
   "execution_count": 61,
   "id": "e1705aa1-112a-48b8-a220-9e2a480c4a21",
   "metadata": {},
   "outputs": [],
   "source": [
    "def sgd(params,lr,batch_size):\n",
    "    with torch.no_grad():\n",
    "        for param in params:\n",
    "#             print(param.grad)\n",
    "            param -= lr * param.grad/batch_size\n",
    "            param.grad.zero_()"
   ]
  },
  {
   "cell_type": "code",
   "execution_count": 62,
   "id": "b2379347-99e8-4796-99b7-d36d470b71e4",
   "metadata": {},
   "outputs": [
    {
     "name": "stdout",
     "output_type": "stream",
     "text": [
      "epoch:0,loss:6.05592679977417\n",
      "epoch:1,loss:2.2460014820098877\n",
      "epoch:2,loss:0.8338708877563477\n",
      "epoch:3,loss:0.3099549412727356\n",
      "epoch:4,loss:0.11531592160463333\n",
      "epoch:5,loss:0.04297169670462608\n",
      "epoch:6,loss:0.01605130359530449\n",
      "epoch:7,loss:0.006020072847604752\n",
      "epoch:8,loss:0.0022830956149846315\n",
      "epoch:9,loss:0.0008882099646143615\n"
     ]
    }
   ],
   "source": [
    "num_epochs = 10\n",
    "lr = 0.01\n",
    "net = linreg\n",
    "loss = squared_loss\n",
    "\n",
    "for epoch in range(num_epochs):\n",
    "    for X,y in data_iter(20,features,labels):\n",
    "        l = loss(net(X,w,b),y)\n",
    "        l.sum().backward()\n",
    "        sgd([w,b],lr,20)\n",
    "#         print(f'epoch{epoch}, w:{w},b:{b}')\n",
    "    with torch.no_grad():\n",
    "        train_l = loss(net(features,w,b),labels)\n",
    "        print(f'epoch:{epoch},loss:{float(train_l.mean())}')"
   ]
  }
 ],
 "metadata": {
  "kernelspec": {
   "display_name": "py37",
   "language": "python",
   "name": "py37"
  },
  "language_info": {
   "codemirror_mode": {
    "name": "ipython",
    "version": 3
   },
   "file_extension": ".py",
   "mimetype": "text/x-python",
   "name": "python",
   "nbconvert_exporter": "python",
   "pygments_lexer": "ipython3",
   "version": "3.7.6"
  }
 },
 "nbformat": 4,
 "nbformat_minor": 5
}
