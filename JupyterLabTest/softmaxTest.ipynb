{
 "cells": [
  {
   "cell_type": "code",
   "execution_count": 1,
   "id": "a3a355a7-0ef5-407a-b996-9802ae3c8734",
   "metadata": {},
   "outputs": [],
   "source": [
    "import torch\n",
    "from IPython import display\n",
    "from d2l import torch as d2l"
   ]
  },
  {
   "cell_type": "code",
   "execution_count": 2,
   "id": "45e54098-0e34-43f9-894e-88de11e5aade",
   "metadata": {},
   "outputs": [
    {
     "name": "stderr",
     "output_type": "stream",
     "text": [
      "C:\\Users\\25832\\Anaconda3\\lib\\site-packages\\torchvision\\datasets\\mnist.py:498: UserWarning: The given NumPy array is not writeable, and PyTorch does not support non-writeable tensors. This means you can write to the underlying (supposedly non-writeable) NumPy array using the tensor. You may want to copy the array to protect its data or make it writeable before converting it to a tensor. This type of warning will be suppressed for the rest of this program. (Triggered internally at  ..\\torch\\csrc\\utils\\tensor_numpy.cpp:180.)\n",
      "  return torch.from_numpy(parsed.astype(m[2], copy=False)).view(*s)\n"
     ]
    }
   ],
   "source": [
    "batch_size = 256\n",
    "train_iter, test_iter = d2l.load_data_fashion_mnist(batch_size)"
   ]
  },
  {
   "cell_type": "code",
   "execution_count": 3,
   "id": "222052f3-e899-430e-9fa5-8dffd11eedbf",
   "metadata": {},
   "outputs": [
    {
     "data": {
      "text/plain": [
       "[tensor([[[[0.0000, 0.0000, 0.0000,  ..., 0.0000, 0.0000, 0.0000],\n",
       "           [0.0000, 0.0000, 0.0000,  ..., 0.0000, 0.0000, 0.0000],\n",
       "           [0.0000, 0.0000, 0.0000,  ..., 0.0000, 0.0000, 0.0000],\n",
       "           ...,\n",
       "           [0.0000, 0.0000, 0.6824,  ..., 0.4706, 0.0000, 0.0000],\n",
       "           [0.0000, 0.0000, 0.8196,  ..., 0.7647, 0.0000, 0.0000],\n",
       "           [0.0000, 0.0000, 0.0000,  ..., 0.0275, 0.0000, 0.0000]]],\n",
       " \n",
       " \n",
       "         [[[0.0000, 0.0000, 0.0000,  ..., 0.0000, 0.0000, 0.0000],\n",
       "           [0.0000, 0.0000, 0.0000,  ..., 0.0000, 0.0000, 0.0000],\n",
       "           [0.0000, 0.0000, 0.0000,  ..., 0.0000, 0.0000, 0.0000],\n",
       "           ...,\n",
       "           [0.0000, 0.0000, 0.0000,  ..., 0.0000, 0.0000, 0.0000],\n",
       "           [0.0000, 0.0000, 0.0000,  ..., 0.0000, 0.0000, 0.0000],\n",
       "           [0.0000, 0.0000, 0.0000,  ..., 0.0000, 0.0000, 0.0000]]],\n",
       " \n",
       " \n",
       "         [[[0.0000, 0.0000, 0.0000,  ..., 0.0000, 0.0000, 0.0000],\n",
       "           [0.0000, 0.0000, 0.0000,  ..., 0.0000, 0.0000, 0.0000],\n",
       "           [0.0000, 0.0000, 0.0000,  ..., 0.0000, 0.0000, 0.0000],\n",
       "           ...,\n",
       "           [0.0000, 0.0000, 0.0000,  ..., 0.0000, 0.0000, 0.0000],\n",
       "           [0.0000, 0.0000, 0.0000,  ..., 0.0000, 0.0000, 0.0000],\n",
       "           [0.0000, 0.0000, 0.0000,  ..., 0.0000, 0.0000, 0.0000]]],\n",
       " \n",
       " \n",
       "         ...,\n",
       " \n",
       " \n",
       "         [[[0.0000, 0.0000, 0.0000,  ..., 0.0000, 0.0000, 0.0000],\n",
       "           [0.0000, 0.0000, 0.0000,  ..., 0.0000, 0.0000, 0.0000],\n",
       "           [0.0000, 0.0000, 0.0000,  ..., 0.0000, 0.0000, 0.0000],\n",
       "           ...,\n",
       "           [0.0000, 0.0000, 0.0000,  ..., 0.0000, 0.0000, 0.0000],\n",
       "           [0.0000, 0.0000, 0.0000,  ..., 0.0000, 0.0000, 0.0000],\n",
       "           [0.0000, 0.0000, 0.0000,  ..., 0.0000, 0.0000, 0.0000]]],\n",
       " \n",
       " \n",
       "         [[[0.0000, 0.0000, 0.0000,  ..., 0.0000, 0.0000, 0.0000],\n",
       "           [0.0000, 0.0000, 0.0000,  ..., 0.0000, 0.0000, 0.0000],\n",
       "           [0.0000, 0.0000, 0.0000,  ..., 0.0000, 0.0000, 0.0000],\n",
       "           ...,\n",
       "           [0.0000, 0.0000, 0.0000,  ..., 0.0000, 0.0000, 0.0000],\n",
       "           [0.0000, 0.0000, 0.0000,  ..., 0.0000, 0.0000, 0.0000],\n",
       "           [0.0000, 0.0000, 0.0000,  ..., 0.0000, 0.0000, 0.0000]]],\n",
       " \n",
       " \n",
       "         [[[0.0000, 0.0000, 0.0000,  ..., 0.0000, 0.0000, 0.0000],\n",
       "           [0.0000, 0.0000, 0.0000,  ..., 0.0000, 0.0000, 0.0000],\n",
       "           [0.0000, 0.0000, 0.0000,  ..., 0.0000, 0.0000, 0.0000],\n",
       "           ...,\n",
       "           [0.0000, 0.0000, 0.0000,  ..., 0.0000, 0.0000, 0.0000],\n",
       "           [0.0000, 0.0000, 0.0000,  ..., 0.0000, 0.0000, 0.0000],\n",
       "           [0.0000, 0.0000, 0.0000,  ..., 0.0000, 0.0000, 0.0000]]]]),\n",
       " tensor([2, 8, 5, 3, 8, 5, 7, 2, 4, 9, 3, 5, 8, 8, 5, 7, 0, 0, 0, 6, 5, 6, 1, 9,\n",
       "         7, 5, 7, 4, 6, 0, 2, 1, 9, 4, 3, 9, 6, 4, 5, 0, 9, 8, 8, 9, 8, 9, 6, 8,\n",
       "         6, 5, 4, 1, 5, 5, 9, 6, 1, 9, 5, 4, 6, 8, 4, 7, 9, 6, 5, 1, 9, 3, 9, 8,\n",
       "         3, 0, 0, 3, 5, 7, 4, 7, 1, 2, 4, 2, 2, 6, 7, 5, 1, 2, 5, 7, 4, 9, 6, 2,\n",
       "         5, 9, 4, 4, 1, 2, 6, 3, 4, 2, 0, 0, 9, 9, 2, 5, 6, 4, 1, 3, 8, 0, 1, 6,\n",
       "         6, 7, 0, 7, 7, 1, 7, 2, 6, 0, 4, 7, 2, 6, 8, 4, 0, 5, 2, 6, 1, 4, 1, 5,\n",
       "         2, 6, 5, 4, 3, 2, 6, 0, 2, 9, 5, 6, 3, 5, 4, 0, 9, 5, 5, 8, 8, 1, 5, 0,\n",
       "         3, 5, 1, 0, 0, 1, 3, 5, 5, 7, 2, 2, 6, 9, 0, 4, 6, 8, 6, 5, 3, 9, 5, 2,\n",
       "         1, 7, 7, 1, 5, 3, 1, 4, 9, 5, 7, 8, 4, 4, 0, 9, 7, 2, 0, 0, 2, 2, 9, 4,\n",
       "         8, 7, 7, 7, 8, 5, 7, 8, 8, 3, 1, 4, 0, 4, 8, 0, 1, 3, 2, 5, 3, 0, 9, 8,\n",
       "         1, 2, 6, 4, 9, 6, 9, 2, 7, 2, 5, 1, 5, 7, 0, 1])]"
      ]
     },
     "execution_count": 3,
     "metadata": {},
     "output_type": "execute_result"
    }
   ],
   "source": [
    "next(iter(train_iter))"
   ]
  },
  {
   "cell_type": "code",
   "execution_count": 4,
   "id": "ea326962-54e2-4911-8a29-e708f19641d9",
   "metadata": {},
   "outputs": [
    {
     "data": {
      "text/plain": [
       "torch.Size([256, 1, 28, 28])"
      ]
     },
     "execution_count": 4,
     "metadata": {},
     "output_type": "execute_result"
    }
   ],
   "source": [
    "next(iter(test_iter))[0].shape"
   ]
  },
  {
   "cell_type": "code",
   "execution_count": 5,
   "id": "747eb405-ce30-4f99-b747-51e6cc5ba6f5",
   "metadata": {},
   "outputs": [],
   "source": [
    "num_inputs = 784  #(28*28)\n",
    "num_ouputs = 10   #(class)"
   ]
  },
  {
   "cell_type": "code",
   "execution_count": 6,
   "id": "f5cfb884-3cfb-461d-9b40-15a7c72f3c71",
   "metadata": {},
   "outputs": [],
   "source": [
    "w = torch.normal(0,0.001,size=(num_inputs,num_ouputs),requires_grad=True)"
   ]
  },
  {
   "cell_type": "code",
   "execution_count": 7,
   "id": "cf850862-1ce2-4727-8a75-7279f40ec3fd",
   "metadata": {},
   "outputs": [],
   "source": [
    "b = torch.zeros(num_ouputs,requires_grad=True)"
   ]
  },
  {
   "cell_type": "code",
   "execution_count": 8,
   "id": "53652846-1b7e-43da-9e16-49fe03cfd5f6",
   "metadata": {},
   "outputs": [],
   "source": [
    "def softmax(X):\n",
    "    X_exp = torch.exp(X)\n",
    "    partition = X_exp.sum(1,keepdim=True)\n",
    "    return X_exp/partition"
   ]
  },
  {
   "cell_type": "code",
   "execution_count": 9,
   "id": "22beb459-fae7-4304-a7cf-92b198e4cf56",
   "metadata": {},
   "outputs": [
    {
     "data": {
      "text/plain": [
       "tensor([[-0.3964,  0.3296, -0.2666,  1.1357,  1.1734],\n",
       "        [-1.4112, -1.0940, -1.3599, -0.7049,  1.1375]])"
      ]
     },
     "execution_count": 9,
     "metadata": {},
     "output_type": "execute_result"
    }
   ],
   "source": [
    "X = torch.normal(0,1,(2,5))\n",
    "X"
   ]
  },
  {
   "cell_type": "code",
   "execution_count": 10,
   "id": "7dd8b285-5120-4824-9a19-7ea50eeb725c",
   "metadata": {},
   "outputs": [
    {
     "data": {
      "text/plain": [
       "tensor([[0.0733, 0.1515, 0.0835, 0.3393, 0.3524],\n",
       "        [0.0548, 0.0753, 0.0577, 0.1111, 0.7011]])"
      ]
     },
     "execution_count": 10,
     "metadata": {},
     "output_type": "execute_result"
    }
   ],
   "source": [
    "X_prob = softmax(X)\n",
    "X_prob"
   ]
  },
  {
   "cell_type": "code",
   "execution_count": 11,
   "id": "3acfc0de-471e-4164-b746-00684114df9b",
   "metadata": {},
   "outputs": [
    {
     "data": {
      "text/plain": [
       "tensor([[1.],\n",
       "        [1.]])"
      ]
     },
     "execution_count": 11,
     "metadata": {},
     "output_type": "execute_result"
    }
   ],
   "source": [
    "X_prob.sum(1,keepdim=True)"
   ]
  },
  {
   "cell_type": "code",
   "execution_count": 12,
   "id": "123a7f84-20a8-4a7e-bda5-b28861944a77",
   "metadata": {},
   "outputs": [],
   "source": [
    "def net(X):\n",
    "    return torch.matmul(X.reshape(-1,w.shape[0]),w) + b"
   ]
  },
  {
   "cell_type": "code",
   "execution_count": 13,
   "id": "8873a34c-5d22-4d34-97bc-a2d9016b55f7",
   "metadata": {},
   "outputs": [
    {
     "data": {
      "text/plain": [
       "tensor([0.1000, 0.5000])"
      ]
     },
     "execution_count": 13,
     "metadata": {},
     "output_type": "execute_result"
    }
   ],
   "source": [
    "y = torch.tensor([0, 2])\n",
    "y_hat = torch.tensor([[0.1, 0.3, 0.6], [0.3, 0.2, 0.5]])\n",
    "y_hat[[0, 1], y]"
   ]
  },
  {
   "cell_type": "code",
   "execution_count": 14,
   "id": "706f5085-f7f6-41a8-8570-b4744b5c9bca",
   "metadata": {},
   "outputs": [
    {
     "data": {
      "text/plain": [
       "tensor([2.3026, 0.6931])"
      ]
     },
     "execution_count": 14,
     "metadata": {},
     "output_type": "execute_result"
    }
   ],
   "source": [
    "def cross_entropy(y_hat,y):\n",
    "    return -torch.log(y_hat[range(len(y_hat)),y])\n",
    "cross_entropy(y_hat,y)"
   ]
  },
  {
   "cell_type": "code",
   "execution_count": 15,
   "id": "89c38269-5e0e-47a5-9063-59558cf3d521",
   "metadata": {},
   "outputs": [],
   "source": [
    "def accuracy(y_hat,y):\n",
    "    if len(y_hat.shape)>1 and y_hat.shape[1]>1:\n",
    "        y_hat = y_hat.argmax(axis=1)\n",
    "    cmp = y_hat.type(y.dtype)==y\n",
    "    return float(cmp.type(y.dtype).sum())"
   ]
  },
  {
   "cell_type": "code",
   "execution_count": 16,
   "id": "d67a5b47-2ac3-4675-a38b-cace4155e99e",
   "metadata": {},
   "outputs": [
    {
     "data": {
      "text/plain": [
       "0.5"
      ]
     },
     "execution_count": 16,
     "metadata": {},
     "output_type": "execute_result"
    }
   ],
   "source": [
    "accuracy(y_hat,y)/len(y)"
   ]
  },
  {
   "cell_type": "code",
   "execution_count": 17,
   "id": "899b2b81-c5ec-463b-ae77-177429c58b84",
   "metadata": {},
   "outputs": [],
   "source": [
    "class Acumulator:\n",
    "    def __init__(self,n):\n",
    "        self.data = [0.0] * n\n",
    "    def add(self,*args):\n",
    "        self.data = [a+float(b) for a,b in zip(self.data,args)]\n",
    "    def reset(self):\n",
    "        self.data = [0.0] * len(self.data)\n",
    "    def __getitem__(self,idx):\n",
    "        return self.data[idx]\n"
   ]
  },
  {
   "cell_type": "code",
   "execution_count": 21,
   "id": "f88745d4-4add-47d3-82bd-dd0dec454fb1",
   "metadata": {},
   "outputs": [],
   "source": [
    "metric = Acumulator(2)"
   ]
  },
  {
   "cell_type": "code",
   "execution_count": 22,
   "id": "0a87aa6e-5d78-4b10-901c-f66cd3a9977f",
   "metadata": {},
   "outputs": [],
   "source": [
    "def evaluate_accuracy(net,data_iter):\n",
    "    if isinstance(net,torch.nn.Module):\n",
    "        net.eval()\n",
    "    mertric = Acumulator(2)\n",
    "    for X,y in data_iter:\n",
    "        mertric.add(accuracy(net(X),y),y.numel())\n",
    "    return mertric[0]/mertric[1]"
   ]
  },
  {
   "cell_type": "code",
   "execution_count": 25,
   "id": "aa60fb77-a244-4045-ac1a-acd31aa87659",
   "metadata": {},
   "outputs": [],
   "source": [
    "def train(net,train_iter,loss,updater):\n",
    "    if isinstance(net,torch.nn.Module):\n",
    "        net.train()\n",
    "    metric = Acumulator(3)\n",
    "    for X,y in train_iter:\n",
    "        y_hat = net(X)\n",
    "        l = loss(y_hat,y)\n",
    "        \n",
    "        if isinstance(updater,torch.optim.Optimizer):\n",
    "            updater.zero_grad()\n",
    "            l.backward()\n",
    "            updater.step()\n",
    "            metric.add(float(l)*len(y),accuracy(y_hat,y),y.size().numel())\n",
    "        "
   ]
  },
  {
   "cell_type": "code",
   "execution_count": null,
   "id": "88e547d4-213d-41fe-b467-34714005b431",
   "metadata": {},
   "outputs": [],
   "source": []
  }
 ],
 "metadata": {
  "kernelspec": {
   "display_name": "py37",
   "language": "python",
   "name": "py37"
  },
  "language_info": {
   "codemirror_mode": {
    "name": "ipython",
    "version": 3
   },
   "file_extension": ".py",
   "mimetype": "text/x-python",
   "name": "python",
   "nbconvert_exporter": "python",
   "pygments_lexer": "ipython3",
   "version": "3.7.6"
  }
 },
 "nbformat": 4,
 "nbformat_minor": 5
}
