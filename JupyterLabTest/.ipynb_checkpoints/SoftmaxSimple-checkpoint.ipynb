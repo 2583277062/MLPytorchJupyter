{
 "cells": [
  {
   "cell_type": "code",
   "execution_count": 1,
   "id": "0504a73f-b17e-4b88-9da7-8d472fd86ec2",
   "metadata": {},
   "outputs": [],
   "source": [
    "import torch\n",
    "from torch import nn\n",
    "from d2l import torch as d2l"
   ]
  },
  {
   "cell_type": "code",
   "execution_count": 2,
   "id": "606ae25a-4e92-47aa-8ab1-627f8ebd14de",
   "metadata": {},
   "outputs": [
    {
     "name": "stderr",
     "output_type": "stream",
     "text": [
      "C:\\Users\\25832\\Anaconda3\\lib\\site-packages\\torchvision\\datasets\\mnist.py:498: UserWarning: The given NumPy array is not writeable, and PyTorch does not support non-writeable tensors. This means you can write to the underlying (supposedly non-writeable) NumPy array using the tensor. You may want to copy the array to protect its data or make it writeable before converting it to a tensor. This type of warning will be suppressed for the rest of this program. (Triggered internally at  ..\\torch\\csrc\\utils\\tensor_numpy.cpp:180.)\n",
      "  return torch.from_numpy(parsed.astype(m[2], copy=False)).view(*s)\n"
     ]
    }
   ],
   "source": [
    "batch_size = 256\n",
    "train_iter ,test_iter = d2l.load_data_fashion_mnist(batch_size)"
   ]
  },
  {
   "cell_type": "code",
   "execution_count": 3,
   "id": "b4a86dbe-b2db-4708-8f86-d60cba95b69b",
   "metadata": {},
   "outputs": [],
   "source": [
    "X_train , y_train = next(iter(train_iter))"
   ]
  },
  {
   "cell_type": "code",
   "execution_count": 4,
   "id": "f378cc36-95bb-4d07-9c50-68d9c2f2e46c",
   "metadata": {},
   "outputs": [
    {
     "data": {
      "text/plain": [
       "torch.Size([256, 1, 28, 28])"
      ]
     },
     "execution_count": 4,
     "metadata": {},
     "output_type": "execute_result"
    }
   ],
   "source": [
    "X_train.shape"
   ]
  },
  {
   "cell_type": "code",
   "execution_count": 5,
   "id": "2ccbf085-c792-4d4b-b217-3ad129dc39af",
   "metadata": {},
   "outputs": [
    {
     "data": {
      "text/plain": [
       "torch.Size([256])"
      ]
     },
     "execution_count": 5,
     "metadata": {},
     "output_type": "execute_result"
    }
   ],
   "source": [
    "y_train.shape"
   ]
  },
  {
   "cell_type": "code",
   "execution_count": 6,
   "id": "c6a27595-8f21-4b51-a47d-399b1f49961b",
   "metadata": {},
   "outputs": [],
   "source": [
    "net = nn.Sequential(nn.Flatten(),nn.Linear(28*28,10))"
   ]
  },
  {
   "cell_type": "code",
   "execution_count": 7,
   "id": "e001a273-54db-43f7-be6f-5807abaa5c63",
   "metadata": {},
   "outputs": [
    {
     "data": {
      "text/plain": [
       "Sequential(\n",
       "  (0): Flatten(start_dim=1, end_dim=-1)\n",
       "  (1): Linear(in_features=784, out_features=10, bias=True)\n",
       ")"
      ]
     },
     "execution_count": 7,
     "metadata": {},
     "output_type": "execute_result"
    }
   ],
   "source": [
    "def init_weight(m):\n",
    "    if type(m) == nn.Linear:\n",
    "        nn.init.normal_(m.weight,std=0.01)\n",
    "net.apply(init_weight)"
   ]
  },
  {
   "cell_type": "code",
   "execution_count": 8,
   "id": "55b8b351-a48c-4f8e-b575-544ac69fa6d4",
   "metadata": {},
   "outputs": [
    {
     "data": {
      "text/plain": [
       "torch.Size([10, 784])"
      ]
     },
     "execution_count": 8,
     "metadata": {},
     "output_type": "execute_result"
    }
   ],
   "source": [
    "net.state_dict()['1.weight'].shape"
   ]
  },
  {
   "cell_type": "code",
   "execution_count": 9,
   "id": "7a9fdca4-117d-47ae-a1f5-51f3b5f01631",
   "metadata": {},
   "outputs": [],
   "source": [
    "loss = nn.CrossEntropyLoss()"
   ]
  },
  {
   "cell_type": "code",
   "execution_count": 10,
   "id": "41884f8a-f8a7-4a8a-b6d2-d5d6942724a3",
   "metadata": {},
   "outputs": [],
   "source": [
    "trainer = torch.optim.SGD(net.parameters(),lr=0.01)"
   ]
  },
  {
   "cell_type": "code",
   "execution_count": 12,
   "id": "53246826-a46b-4ce2-9942-333ba634e66b",
   "metadata": {},
   "outputs": [],
   "source": [
    "trainer.zero_grad()"
   ]
  },
  {
   "cell_type": "code",
   "execution_count": 14,
   "id": "a1e799f7-6adf-4fcf-9a4c-9191a7fbec4a",
   "metadata": {},
   "outputs": [],
   "source": [
    "y_pred = net(X_train)"
   ]
  },
  {
   "cell_type": "code",
   "execution_count": 15,
   "id": "6b366268-7cec-4e93-91d8-3c9337ca5908",
   "metadata": {},
   "outputs": [
    {
     "data": {
      "text/plain": [
       "tensor([[ 0.0421, -0.0016,  0.0875,  ..., -0.2843,  0.3419, -0.0678],\n",
       "        [-0.0041, -0.0994,  0.0969,  ..., -0.1126,  0.2544, -0.0316],\n",
       "        [-0.0965, -0.0748,  0.1610,  ..., -0.0208,  0.1514,  0.0859],\n",
       "        ...,\n",
       "        [-0.0690, -0.0631,  0.0200,  ..., -0.0457,  0.2011, -0.0372],\n",
       "        [ 0.1014, -0.0363,  0.2082,  ..., -0.1520,  0.1884, -0.0767],\n",
       "        [ 0.1177, -0.0724,  0.0850,  ..., -0.2334,  0.2722, -0.0014]],\n",
       "       grad_fn=<AddmmBackward>)"
      ]
     },
     "execution_count": 15,
     "metadata": {},
     "output_type": "execute_result"
    }
   ],
   "source": [
    "y_pred"
   ]
  },
  {
   "cell_type": "code",
   "execution_count": 16,
   "id": "6b8ae614-6212-4f69-bb82-04898ebec761",
   "metadata": {},
   "outputs": [
    {
     "data": {
      "text/plain": [
       "torch.Size([256, 10])"
      ]
     },
     "execution_count": 16,
     "metadata": {},
     "output_type": "execute_result"
    }
   ],
   "source": [
    "y_pred.shape"
   ]
  },
  {
   "cell_type": "code",
   "execution_count": 17,
   "id": "b58abec6-c6d9-4e52-a1ae-06372d9421db",
   "metadata": {},
   "outputs": [
    {
     "data": {
      "text/plain": [
       "torch.Size([256])"
      ]
     },
     "execution_count": 17,
     "metadata": {},
     "output_type": "execute_result"
    }
   ],
   "source": [
    "y_train.shape"
   ]
  },
  {
   "cell_type": "code",
   "execution_count": 27,
   "id": "cc234c85-f273-41fb-a896-79048da1d7f0",
   "metadata": {},
   "outputs": [],
   "source": [
    "import numpy as np"
   ]
  },
  {
   "cell_type": "code",
   "execution_count": 32,
   "id": "6504d5e6-d5eb-4e13-8ffa-95653b533cfc",
   "metadata": {},
   "outputs": [
    {
     "data": {
      "text/plain": [
       "tensor([8, 8, 2, 8, 8, 2, 2, 8, 8, 8, 8, 8, 8, 8, 8, 8, 8, 8, 2, 8, 8, 8, 8, 8,\n",
       "        6, 8, 8, 8, 8, 2, 8, 8, 8, 8, 5, 8, 8, 8, 8, 8, 8, 8, 3, 6, 8, 5, 8, 8,\n",
       "        8, 8, 8, 8, 8, 8, 3, 8, 8, 8, 8, 8, 8, 8, 2, 2, 8, 8, 8, 5, 8, 9, 8, 8,\n",
       "        8, 8, 8, 8, 8, 8, 8, 6, 8, 2, 8, 8, 8, 8, 8, 8, 8, 8, 8, 8, 8, 2, 8, 8,\n",
       "        8, 8, 8, 8, 2, 8, 8, 8, 8, 8, 2, 2, 8, 8, 8, 3, 8, 8, 8, 8, 8, 2, 6, 6,\n",
       "        8, 8, 8, 8, 6, 8, 8, 8, 8, 8, 8, 8, 8, 8, 8, 2, 8, 2, 6, 8, 8, 8, 8, 8,\n",
       "        5, 8, 5, 8, 8, 8, 8, 8, 8, 8, 5, 8, 8, 8, 8, 8, 2, 8, 8, 8, 4, 8, 8, 8,\n",
       "        8, 8, 8, 2, 8, 8, 8, 6, 8, 8, 2, 8, 8, 8, 8, 8, 8, 2, 8, 2, 8, 8, 8, 8,\n",
       "        8, 8, 8, 8, 8, 8, 2, 8, 8, 8, 8, 8, 8, 8, 8, 8, 8, 8, 8, 8, 5, 8, 6, 8,\n",
       "        8, 2, 8, 8, 8, 8, 8, 2, 8, 8, 8, 2, 8, 8, 8, 6, 8, 8, 8, 9, 8, 8, 8, 8,\n",
       "        2, 8, 2, 8, 8, 8, 8, 8, 8, 8, 8, 8, 8, 8, 2, 8])"
      ]
     },
     "execution_count": 32,
     "metadata": {},
     "output_type": "execute_result"
    }
   ],
   "source": [
    "y_pred.argmax(axis=1)"
   ]
  },
  {
   "cell_type": "code",
   "execution_count": 33,
   "id": "0259e13b-e496-4f4d-91e9-b3a223f419a5",
   "metadata": {},
   "outputs": [
    {
     "name": "stdout",
     "output_type": "stream",
     "text": [
      "epoch:1,loss:1.3708962202072144\n",
      "epoch:2,loss:0.9171954393386841\n",
      "epoch:3,loss:0.8027288317680359\n",
      "epoch:4,loss:0.7426077127456665\n",
      "epoch:5,loss:0.7028849720954895\n",
      "epoch:6,loss:0.673906147480011\n",
      "epoch:7,loss:0.652010440826416\n",
      "epoch:8,loss:0.6339858174324036\n",
      "epoch:9,loss:0.6186879873275757\n",
      "epoch:10,loss:0.6061853170394897\n"
     ]
    }
   ],
   "source": [
    "for epoch in range(1,11):\n",
    "    net.train()\n",
    "    train_loss = []\n",
    "    for X_train, y_train in train_iter:\n",
    "        trainer.zero_grad()\n",
    "        l = loss(net(X_train),y_train)\n",
    "        train_loss.append(l)\n",
    "        l.sum().backward()\n",
    "        trainer.step()\n",
    "    print(f'epoch:{epoch},loss:{sum(train_loss)/len(train_loss)}')\n",
    "        "
   ]
  },
  {
   "cell_type": "code",
   "execution_count": null,
   "id": "1e2c8544-e3b4-4920-abab-1b40c20d1264",
   "metadata": {},
   "outputs": [],
   "source": []
  }
 ],
 "metadata": {
  "kernelspec": {
   "display_name": "py37",
   "language": "python",
   "name": "py37"
  },
  "language_info": {
   "codemirror_mode": {
    "name": "ipython",
    "version": 3
   },
   "file_extension": ".py",
   "mimetype": "text/x-python",
   "name": "python",
   "nbconvert_exporter": "python",
   "pygments_lexer": "ipython3",
   "version": "3.7.6"
  }
 },
 "nbformat": 4,
 "nbformat_minor": 5
}
