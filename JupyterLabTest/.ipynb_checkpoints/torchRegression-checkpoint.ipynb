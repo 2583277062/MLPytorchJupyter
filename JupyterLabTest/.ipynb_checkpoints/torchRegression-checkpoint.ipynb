{
 "cells": [
  {
   "cell_type": "code",
   "execution_count": 12,
   "id": "61bf1207-d666-4c5c-bda6-4e0f2d2b2d25",
   "metadata": {},
   "outputs": [],
   "source": [
    "import numpy as np\n",
    "import pandas as pd\n",
    "from torch.utils import data\n",
    "import torch\n",
    "df = pd.read_csv('./GF1_cleaned.csv')\n",
    "df.corr()['load'].sort_values(ascending=False)\n",
    "features = df.loc[:,['swr','T2m','T']]\n",
    "labels = df.loc[:,'load']\n",
    "\n",
    "from d2l import torch as d2l\n",
    "\n",
    "\n",
    "true_w = torch.tensor([2, -3.4])\n",
    "true_b = 4.2\n",
    "features, labels = d2l.synthetic_data(true_w, true_b, 1000)"
   ]
  },
  {
   "cell_type": "code",
   "execution_count": 13,
   "id": "5faea754-d7e9-4973-bafc-1a6723ecdc56",
   "metadata": {},
   "outputs": [],
   "source": [
    "def load_array(data_arrays,batch_size,is_train=True):\n",
    "    dataset = data.TensorDataset(*data_arrays)\n",
    "    return data.DataLoader(dataset,batch_size,shuffle=is_train)"
   ]
  },
  {
   "cell_type": "code",
   "execution_count": 15,
   "id": "35468365-befc-4c26-ac4e-d05b7fe74c1c",
   "metadata": {},
   "outputs": [],
   "source": [
    "# features = torch.from_numpy(features.values).to(torch.float32)"
   ]
  },
  {
   "cell_type": "code",
   "execution_count": 16,
   "id": "a67cebd6-e255-4500-bec6-61e29dcda0c1",
   "metadata": {},
   "outputs": [],
   "source": [
    "# labels = torch.from_numpy(labels.values).to(torch.float32)"
   ]
  },
  {
   "cell_type": "code",
   "execution_count": 17,
   "id": "c7e91b6a-12a6-45aa-8691-4750d9ab80c8",
   "metadata": {},
   "outputs": [],
   "source": [
    "data_iter = load_array((features,labels),64)"
   ]
  },
  {
   "cell_type": "code",
   "execution_count": 18,
   "id": "0a49104e-877d-4b81-b676-76ca3f9b0c20",
   "metadata": {},
   "outputs": [
    {
     "data": {
      "text/plain": [
       "[tensor([[-1.3683,  0.2574],\n",
       "         [-1.5051,  1.4637],\n",
       "         [-0.4806, -0.7886],\n",
       "         [ 0.5078, -1.3898],\n",
       "         [-2.1550,  1.0638],\n",
       "         [ 2.8405,  0.1027],\n",
       "         [ 0.7282,  0.8553],\n",
       "         [-3.5210, -0.5622],\n",
       "         [ 1.5245, -1.0162],\n",
       "         [-0.1603, -0.3653],\n",
       "         [ 1.1283,  1.7195],\n",
       "         [-0.4389, -0.6833],\n",
       "         [-0.4210,  0.0810],\n",
       "         [ 0.3694,  1.1190],\n",
       "         [ 0.7735, -2.5931],\n",
       "         [-0.1520,  0.0849],\n",
       "         [ 1.3308,  0.0141],\n",
       "         [-0.8358,  0.2586],\n",
       "         [-0.1168, -0.9709],\n",
       "         [ 0.4306, -1.3388],\n",
       "         [-0.1264, -1.8897],\n",
       "         [ 0.1154, -0.4286],\n",
       "         [-0.5704, -2.7313],\n",
       "         [ 2.5419, -0.3725],\n",
       "         [-0.0908, -0.0958],\n",
       "         [ 1.7153,  0.2823],\n",
       "         [ 1.4656,  0.5571],\n",
       "         [-1.1596, -0.0643],\n",
       "         [ 0.6674, -0.6552],\n",
       "         [ 1.7818,  0.0996],\n",
       "         [ 1.9927,  0.2659],\n",
       "         [ 2.4202,  1.7296],\n",
       "         [-1.6807, -0.8050],\n",
       "         [ 0.4729,  1.7706],\n",
       "         [ 1.2985,  1.1458],\n",
       "         [ 0.4494, -0.3570],\n",
       "         [ 0.1077, -0.7093],\n",
       "         [ 0.9665, -0.1416],\n",
       "         [ 0.5621,  0.6084],\n",
       "         [-0.8441,  1.1376],\n",
       "         [-1.1935,  0.7691],\n",
       "         [-1.9970, -0.5304],\n",
       "         [ 0.3863,  0.7854],\n",
       "         [ 1.1424,  0.9646],\n",
       "         [ 1.0090,  0.0982],\n",
       "         [-0.5451, -0.8049],\n",
       "         [-1.6867, -0.1008],\n",
       "         [-0.6068,  0.9277],\n",
       "         [ 0.8757,  0.9416],\n",
       "         [ 0.3199,  0.7292],\n",
       "         [-0.6792,  2.5796],\n",
       "         [ 0.4497, -0.2833],\n",
       "         [ 1.4862,  0.5734],\n",
       "         [ 0.1894, -1.9102],\n",
       "         [ 0.0866, -1.7798],\n",
       "         [ 0.7062, -1.1005],\n",
       "         [ 0.1627,  1.2097],\n",
       "         [ 1.4090,  0.5273],\n",
       "         [ 0.6140, -0.6409],\n",
       "         [-0.8388,  0.4444],\n",
       "         [ 0.1566,  1.4717],\n",
       "         [ 0.1088, -0.0209],\n",
       "         [-0.0869, -0.7776],\n",
       "         [-1.2957, -0.1592]]),\n",
       " tensor([[ 0.6048],\n",
       "         [-3.7934],\n",
       "         [ 5.9004],\n",
       "         [ 9.9595],\n",
       "         [-3.7225],\n",
       "         [ 9.5296],\n",
       "         [ 2.7459],\n",
       "         [-0.9300],\n",
       "         [10.7098],\n",
       "         [ 5.1159],\n",
       "         [ 0.6175],\n",
       "         [ 5.6492],\n",
       "         [ 3.0719],\n",
       "         [ 1.1429],\n",
       "         [14.5569],\n",
       "         [ 3.6363],\n",
       "         [ 6.8248],\n",
       "         [ 1.6514],\n",
       "         [ 7.2727],\n",
       "         [ 9.6037],\n",
       "         [10.3565],\n",
       "         [ 5.8755],\n",
       "         [12.3531],\n",
       "         [10.5423],\n",
       "         [ 4.3401],\n",
       "         [ 6.6715],\n",
       "         [ 5.2395],\n",
       "         [ 2.1065],\n",
       "         [ 7.7875],\n",
       "         [ 7.4351],\n",
       "         [ 7.2874],\n",
       "         [ 3.1715],\n",
       "         [ 3.5667],\n",
       "         [-0.8722],\n",
       "         [ 2.9086],\n",
       "         [ 6.3103],\n",
       "         [ 6.8246],\n",
       "         [ 6.6169],\n",
       "         [ 3.2492],\n",
       "         [-1.3681],\n",
       "         [-0.8019],\n",
       "         [ 2.0110],\n",
       "         [ 2.3103],\n",
       "         [ 3.2142],\n",
       "         [ 5.8863],\n",
       "         [ 5.8472],\n",
       "         [ 1.1555],\n",
       "         [-0.1769],\n",
       "         [ 2.7444],\n",
       "         [ 2.3545],\n",
       "         [-5.9328],\n",
       "         [ 6.0681],\n",
       "         [ 5.2279],\n",
       "         [11.0852],\n",
       "         [10.4279],\n",
       "         [ 9.3434],\n",
       "         [ 0.4285],\n",
       "         [ 5.2074],\n",
       "         [ 7.6083],\n",
       "         [ 1.0277],\n",
       "         [-0.4797],\n",
       "         [ 4.4802],\n",
       "         [ 6.6813],\n",
       "         [ 2.1513]])]"
      ]
     },
     "execution_count": 18,
     "metadata": {},
     "output_type": "execute_result"
    }
   ],
   "source": [
    "next(iter(data_iter))"
   ]
  },
  {
   "cell_type": "code",
   "execution_count": 19,
   "id": "51a07f13-38ab-45bf-a4bd-34890a804530",
   "metadata": {},
   "outputs": [],
   "source": [
    "from torch import nn\n",
    "net = nn.Sequential(nn.Linear(2,1))\n"
   ]
  },
  {
   "cell_type": "code",
   "execution_count": 20,
   "id": "743e5541-b42e-4355-82c7-08158d4dc1f2",
   "metadata": {},
   "outputs": [
    {
     "data": {
      "text/plain": [
       "tensor([[ 0.0056,  0.0094, -0.0046]])"
      ]
     },
     "execution_count": 20,
     "metadata": {},
     "output_type": "execute_result"
    }
   ],
   "source": [
    "net[0].weight.data.normal_(0,0.01).to(torch.float32)\n",
    "# net[0].bias.data.fill_(0).to(torch.float64)"
   ]
  },
  {
   "cell_type": "code",
   "execution_count": 21,
   "id": "48087c5f-14de-4756-a67e-10c784fb9bd6",
   "metadata": {},
   "outputs": [],
   "source": [
    "loss = nn.MSELoss()"
   ]
  },
  {
   "cell_type": "code",
   "execution_count": 22,
   "id": "ac74c70e-7055-4010-aa80-73a206100bce",
   "metadata": {},
   "outputs": [],
   "source": [
    "trainer = torch.optim.SGD(net.parameters(),lr=0.01)"
   ]
  },
  {
   "cell_type": "code",
   "execution_count": 23,
   "id": "30db8399-f4ab-4164-9669-2d5d51066f1e",
   "metadata": {},
   "outputs": [
    {
     "ename": "RuntimeError",
     "evalue": "mat1 and mat2 shapes cannot be multiplied (64x2 and 3x1)",
     "output_type": "error",
     "traceback": [
      "\u001b[1;31m---------------------------------------------------------------------------\u001b[0m",
      "\u001b[1;31mRuntimeError\u001b[0m                              Traceback (most recent call last)",
      "\u001b[1;32m~\\AppData\\Local\\Temp/ipykernel_30944/301059414.py\u001b[0m in \u001b[0;36m<module>\u001b[1;34m\u001b[0m\n\u001b[0;32m      2\u001b[0m \u001b[1;32mfor\u001b[0m \u001b[0mepoch\u001b[0m \u001b[1;32min\u001b[0m \u001b[0mrange\u001b[0m\u001b[1;33m(\u001b[0m\u001b[0mnum_epochs\u001b[0m\u001b[1;33m)\u001b[0m\u001b[1;33m:\u001b[0m\u001b[1;33m\u001b[0m\u001b[1;33m\u001b[0m\u001b[0m\n\u001b[0;32m      3\u001b[0m     \u001b[1;32mfor\u001b[0m \u001b[0mX\u001b[0m\u001b[1;33m,\u001b[0m\u001b[0my\u001b[0m \u001b[1;32min\u001b[0m \u001b[0miter\u001b[0m\u001b[1;33m(\u001b[0m\u001b[0mdata_iter\u001b[0m\u001b[1;33m)\u001b[0m\u001b[1;33m:\u001b[0m\u001b[1;33m\u001b[0m\u001b[1;33m\u001b[0m\u001b[0m\n\u001b[1;32m----> 4\u001b[1;33m         \u001b[0ml\u001b[0m \u001b[1;33m=\u001b[0m \u001b[0mloss\u001b[0m\u001b[1;33m(\u001b[0m\u001b[0mnet\u001b[0m\u001b[1;33m(\u001b[0m\u001b[0mX\u001b[0m\u001b[1;33m)\u001b[0m\u001b[1;33m,\u001b[0m\u001b[0my\u001b[0m\u001b[1;33m)\u001b[0m\u001b[1;33m\u001b[0m\u001b[1;33m\u001b[0m\u001b[0m\n\u001b[0m\u001b[0;32m      5\u001b[0m         \u001b[0mtrainer\u001b[0m\u001b[1;33m.\u001b[0m\u001b[0mzero_grad\u001b[0m\u001b[1;33m(\u001b[0m\u001b[1;33m)\u001b[0m\u001b[1;33m\u001b[0m\u001b[1;33m\u001b[0m\u001b[0m\n\u001b[0;32m      6\u001b[0m         \u001b[0ml\u001b[0m\u001b[1;33m.\u001b[0m\u001b[0mbackward\u001b[0m\u001b[1;33m(\u001b[0m\u001b[1;33m)\u001b[0m\u001b[1;33m\u001b[0m\u001b[1;33m\u001b[0m\u001b[0m\n",
      "\u001b[1;32m~\\Anaconda3\\lib\\site-packages\\torch\\nn\\modules\\module.py\u001b[0m in \u001b[0;36m_call_impl\u001b[1;34m(self, *input, **kwargs)\u001b[0m\n\u001b[0;32m   1049\u001b[0m         if not (self._backward_hooks or self._forward_hooks or self._forward_pre_hooks or _global_backward_hooks\n\u001b[0;32m   1050\u001b[0m                 or _global_forward_hooks or _global_forward_pre_hooks):\n\u001b[1;32m-> 1051\u001b[1;33m             \u001b[1;32mreturn\u001b[0m \u001b[0mforward_call\u001b[0m\u001b[1;33m(\u001b[0m\u001b[1;33m*\u001b[0m\u001b[0minput\u001b[0m\u001b[1;33m,\u001b[0m \u001b[1;33m**\u001b[0m\u001b[0mkwargs\u001b[0m\u001b[1;33m)\u001b[0m\u001b[1;33m\u001b[0m\u001b[1;33m\u001b[0m\u001b[0m\n\u001b[0m\u001b[0;32m   1052\u001b[0m         \u001b[1;31m# Do not call functions when jit is used\u001b[0m\u001b[1;33m\u001b[0m\u001b[1;33m\u001b[0m\u001b[1;33m\u001b[0m\u001b[0m\n\u001b[0;32m   1053\u001b[0m         \u001b[0mfull_backward_hooks\u001b[0m\u001b[1;33m,\u001b[0m \u001b[0mnon_full_backward_hooks\u001b[0m \u001b[1;33m=\u001b[0m \u001b[1;33m[\u001b[0m\u001b[1;33m]\u001b[0m\u001b[1;33m,\u001b[0m \u001b[1;33m[\u001b[0m\u001b[1;33m]\u001b[0m\u001b[1;33m\u001b[0m\u001b[1;33m\u001b[0m\u001b[0m\n",
      "\u001b[1;32m~\\Anaconda3\\lib\\site-packages\\torch\\nn\\modules\\container.py\u001b[0m in \u001b[0;36mforward\u001b[1;34m(self, input)\u001b[0m\n\u001b[0;32m    137\u001b[0m     \u001b[1;32mdef\u001b[0m \u001b[0mforward\u001b[0m\u001b[1;33m(\u001b[0m\u001b[0mself\u001b[0m\u001b[1;33m,\u001b[0m \u001b[0minput\u001b[0m\u001b[1;33m)\u001b[0m\u001b[1;33m:\u001b[0m\u001b[1;33m\u001b[0m\u001b[1;33m\u001b[0m\u001b[0m\n\u001b[0;32m    138\u001b[0m         \u001b[1;32mfor\u001b[0m \u001b[0mmodule\u001b[0m \u001b[1;32min\u001b[0m \u001b[0mself\u001b[0m\u001b[1;33m:\u001b[0m\u001b[1;33m\u001b[0m\u001b[1;33m\u001b[0m\u001b[0m\n\u001b[1;32m--> 139\u001b[1;33m             \u001b[0minput\u001b[0m \u001b[1;33m=\u001b[0m \u001b[0mmodule\u001b[0m\u001b[1;33m(\u001b[0m\u001b[0minput\u001b[0m\u001b[1;33m)\u001b[0m\u001b[1;33m\u001b[0m\u001b[1;33m\u001b[0m\u001b[0m\n\u001b[0m\u001b[0;32m    140\u001b[0m         \u001b[1;32mreturn\u001b[0m \u001b[0minput\u001b[0m\u001b[1;33m\u001b[0m\u001b[1;33m\u001b[0m\u001b[0m\n\u001b[0;32m    141\u001b[0m \u001b[1;33m\u001b[0m\u001b[0m\n",
      "\u001b[1;32m~\\Anaconda3\\lib\\site-packages\\torch\\nn\\modules\\module.py\u001b[0m in \u001b[0;36m_call_impl\u001b[1;34m(self, *input, **kwargs)\u001b[0m\n\u001b[0;32m   1049\u001b[0m         if not (self._backward_hooks or self._forward_hooks or self._forward_pre_hooks or _global_backward_hooks\n\u001b[0;32m   1050\u001b[0m                 or _global_forward_hooks or _global_forward_pre_hooks):\n\u001b[1;32m-> 1051\u001b[1;33m             \u001b[1;32mreturn\u001b[0m \u001b[0mforward_call\u001b[0m\u001b[1;33m(\u001b[0m\u001b[1;33m*\u001b[0m\u001b[0minput\u001b[0m\u001b[1;33m,\u001b[0m \u001b[1;33m**\u001b[0m\u001b[0mkwargs\u001b[0m\u001b[1;33m)\u001b[0m\u001b[1;33m\u001b[0m\u001b[1;33m\u001b[0m\u001b[0m\n\u001b[0m\u001b[0;32m   1052\u001b[0m         \u001b[1;31m# Do not call functions when jit is used\u001b[0m\u001b[1;33m\u001b[0m\u001b[1;33m\u001b[0m\u001b[1;33m\u001b[0m\u001b[0m\n\u001b[0;32m   1053\u001b[0m         \u001b[0mfull_backward_hooks\u001b[0m\u001b[1;33m,\u001b[0m \u001b[0mnon_full_backward_hooks\u001b[0m \u001b[1;33m=\u001b[0m \u001b[1;33m[\u001b[0m\u001b[1;33m]\u001b[0m\u001b[1;33m,\u001b[0m \u001b[1;33m[\u001b[0m\u001b[1;33m]\u001b[0m\u001b[1;33m\u001b[0m\u001b[1;33m\u001b[0m\u001b[0m\n",
      "\u001b[1;32m~\\Anaconda3\\lib\\site-packages\\torch\\nn\\modules\\linear.py\u001b[0m in \u001b[0;36mforward\u001b[1;34m(self, input)\u001b[0m\n\u001b[0;32m     94\u001b[0m \u001b[1;33m\u001b[0m\u001b[0m\n\u001b[0;32m     95\u001b[0m     \u001b[1;32mdef\u001b[0m \u001b[0mforward\u001b[0m\u001b[1;33m(\u001b[0m\u001b[0mself\u001b[0m\u001b[1;33m,\u001b[0m \u001b[0minput\u001b[0m\u001b[1;33m:\u001b[0m \u001b[0mTensor\u001b[0m\u001b[1;33m)\u001b[0m \u001b[1;33m->\u001b[0m \u001b[0mTensor\u001b[0m\u001b[1;33m:\u001b[0m\u001b[1;33m\u001b[0m\u001b[1;33m\u001b[0m\u001b[0m\n\u001b[1;32m---> 96\u001b[1;33m         \u001b[1;32mreturn\u001b[0m \u001b[0mF\u001b[0m\u001b[1;33m.\u001b[0m\u001b[0mlinear\u001b[0m\u001b[1;33m(\u001b[0m\u001b[0minput\u001b[0m\u001b[1;33m,\u001b[0m \u001b[0mself\u001b[0m\u001b[1;33m.\u001b[0m\u001b[0mweight\u001b[0m\u001b[1;33m,\u001b[0m \u001b[0mself\u001b[0m\u001b[1;33m.\u001b[0m\u001b[0mbias\u001b[0m\u001b[1;33m)\u001b[0m\u001b[1;33m\u001b[0m\u001b[1;33m\u001b[0m\u001b[0m\n\u001b[0m\u001b[0;32m     97\u001b[0m \u001b[1;33m\u001b[0m\u001b[0m\n\u001b[0;32m     98\u001b[0m     \u001b[1;32mdef\u001b[0m \u001b[0mextra_repr\u001b[0m\u001b[1;33m(\u001b[0m\u001b[0mself\u001b[0m\u001b[1;33m)\u001b[0m \u001b[1;33m->\u001b[0m \u001b[0mstr\u001b[0m\u001b[1;33m:\u001b[0m\u001b[1;33m\u001b[0m\u001b[1;33m\u001b[0m\u001b[0m\n",
      "\u001b[1;32m~\\Anaconda3\\lib\\site-packages\\torch\\nn\\functional.py\u001b[0m in \u001b[0;36mlinear\u001b[1;34m(input, weight, bias)\u001b[0m\n\u001b[0;32m   1845\u001b[0m     \u001b[1;32mif\u001b[0m \u001b[0mhas_torch_function_variadic\u001b[0m\u001b[1;33m(\u001b[0m\u001b[0minput\u001b[0m\u001b[1;33m,\u001b[0m \u001b[0mweight\u001b[0m\u001b[1;33m)\u001b[0m\u001b[1;33m:\u001b[0m\u001b[1;33m\u001b[0m\u001b[1;33m\u001b[0m\u001b[0m\n\u001b[0;32m   1846\u001b[0m         \u001b[1;32mreturn\u001b[0m \u001b[0mhandle_torch_function\u001b[0m\u001b[1;33m(\u001b[0m\u001b[0mlinear\u001b[0m\u001b[1;33m,\u001b[0m \u001b[1;33m(\u001b[0m\u001b[0minput\u001b[0m\u001b[1;33m,\u001b[0m \u001b[0mweight\u001b[0m\u001b[1;33m)\u001b[0m\u001b[1;33m,\u001b[0m \u001b[0minput\u001b[0m\u001b[1;33m,\u001b[0m \u001b[0mweight\u001b[0m\u001b[1;33m,\u001b[0m \u001b[0mbias\u001b[0m\u001b[1;33m=\u001b[0m\u001b[0mbias\u001b[0m\u001b[1;33m)\u001b[0m\u001b[1;33m\u001b[0m\u001b[1;33m\u001b[0m\u001b[0m\n\u001b[1;32m-> 1847\u001b[1;33m     \u001b[1;32mreturn\u001b[0m \u001b[0mtorch\u001b[0m\u001b[1;33m.\u001b[0m\u001b[0m_C\u001b[0m\u001b[1;33m.\u001b[0m\u001b[0m_nn\u001b[0m\u001b[1;33m.\u001b[0m\u001b[0mlinear\u001b[0m\u001b[1;33m(\u001b[0m\u001b[0minput\u001b[0m\u001b[1;33m,\u001b[0m \u001b[0mweight\u001b[0m\u001b[1;33m,\u001b[0m \u001b[0mbias\u001b[0m\u001b[1;33m)\u001b[0m\u001b[1;33m\u001b[0m\u001b[1;33m\u001b[0m\u001b[0m\n\u001b[0m\u001b[0;32m   1848\u001b[0m \u001b[1;33m\u001b[0m\u001b[0m\n\u001b[0;32m   1849\u001b[0m \u001b[1;33m\u001b[0m\u001b[0m\n",
      "\u001b[1;31mRuntimeError\u001b[0m: mat1 and mat2 shapes cannot be multiplied (64x2 and 3x1)"
     ]
    }
   ],
   "source": [
    "num_epochs = 30\n",
    "for epoch in range(num_epochs):\n",
    "    for X,y in iter(data_iter):\n",
    "        l = loss(net(X),y)\n",
    "        trainer.zero_grad()\n",
    "        l.backward()\n",
    "        trainer.step()\n",
    "    l = loss(net(features),labels)\n",
    "    print(f'epoch:{epoch}, loss:{l}')"
   ]
  },
  {
   "cell_type": "code",
   "execution_count": null,
   "id": "910ae402-ca8b-44a0-b5e0-c3b73bf503e7",
   "metadata": {},
   "outputs": [],
   "source": []
  }
 ],
 "metadata": {
  "kernelspec": {
   "display_name": "py37",
   "language": "python",
   "name": "py37"
  },
  "language_info": {
   "codemirror_mode": {
    "name": "ipython",
    "version": 3
   },
   "file_extension": ".py",
   "mimetype": "text/x-python",
   "name": "python",
   "nbconvert_exporter": "python",
   "pygments_lexer": "ipython3",
   "version": "3.7.6"
  }
 },
 "nbformat": 4,
 "nbformat_minor": 5
}
