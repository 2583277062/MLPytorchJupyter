{
 "cells": [
  {
   "cell_type": "code",
   "execution_count": 1,
   "id": "8c984d1a-3a6a-4ff9-9d4c-f7297313dd9b",
   "metadata": {},
   "outputs": [],
   "source": [
    "import torch.nn as nn\n",
    "import torch\n",
    "class MySequential(nn.Module):\n",
    "    def __init__(self,*args):\n",
    "        super().__init__()\n",
    "        self.blocks = []\n",
    "        for block in args:\n",
    "            self.blocks.append(block)\n",
    "    def forward(self,X):\n",
    "        for block in self.blocks:\n",
    "            X = block(X)\n",
    "        return X"
   ]
  },
  {
   "cell_type": "code",
   "execution_count": 2,
   "id": "7f98dcc9-e399-4c65-b947-496949e26426",
   "metadata": {},
   "outputs": [],
   "source": [
    "class MLP(nn.Module):\n",
    "    # 用模型参数声明层。这里，我们声明两个全连接的层\n",
    "    def __init__(self):\n",
    "        # 调用`MLP`的父类`Block`的构造函数来执行必要的初始化。\n",
    "        # 这样，在类实例化时也可以指定其他函数参数，例如模型参数`params`（稍后将介绍）\n",
    "        super().__init__()\n",
    "        self.hidden = nn.Linear(20, 256)  # 隐藏层\n",
    "        self.out = nn.Linear(256, 10)  # 输出层\n",
    "\n",
    "    # 定义模型的正向传播，即如何根据输入`X`返回所需的模型输出\n",
    "    def forward(self, X):\n",
    "        # 注意，这里我们使用ReLU的函数版本，其在nn.functional模块中定义。\n",
    "        return self.out(F.relu(self.hidden(X)))"
   ]
  },
  {
   "cell_type": "code",
   "execution_count": 3,
   "id": "ee83a70a-b068-4ff2-bd4e-d3612b44fc53",
   "metadata": {},
   "outputs": [],
   "source": [
    "X = torch.randn(2, 20)\n",
    "net = MySequential(nn.Linear(20, 256), nn.ReLU(), nn.Linear(256, 10))"
   ]
  },
  {
   "cell_type": "code",
   "execution_count": 4,
   "id": "b833e695-5d52-42ad-8f33-2b09510f7207",
   "metadata": {},
   "outputs": [
    {
     "data": {
      "text/plain": [
       "MySequential()"
      ]
     },
     "execution_count": 4,
     "metadata": {},
     "output_type": "execute_result"
    }
   ],
   "source": [
    "def init_weight(m):\n",
    "    if type(m) == nn.Linear:\n",
    "        nn.init.zeros_()\n",
    "net.apply(init_weight)"
   ]
  },
  {
   "cell_type": "code",
   "execution_count": 5,
   "id": "7bba6926-24ca-4e56-a6d2-1e097736c572",
   "metadata": {},
   "outputs": [],
   "source": [
    "class MySequential2(nn.Module):\n",
    "    def __init__(self, *args):\n",
    "        super().__init__()\n",
    "        for block in args:\n",
    "            # 这里，`block`是`Module`子类的一个实例。我们把它保存在'Module'类的成员变量\n",
    "            # `_modules` 中。`block`的类型是OrderedDict。\n",
    "            self._modules[block] = block\n",
    "\n",
    "    def forward(self, X):\n",
    "        # OrderedDict保证了按照成员添加的顺序遍历它们\n",
    "        for block in self._modules.values():\n",
    "            X = block(X)\n",
    "        return X"
   ]
  },
  {
   "cell_type": "code",
   "execution_count": 6,
   "id": "e785c51e-9e46-4467-b040-3e0f66f79907",
   "metadata": {},
   "outputs": [
    {
     "data": {
      "text/plain": [
       "MySequential()"
      ]
     },
     "execution_count": 6,
     "metadata": {},
     "output_type": "execute_result"
    }
   ],
   "source": [
    "net2 = MySequential(nn.Linear(20, 256), nn.ReLU(), nn.Linear(256, 10))\n",
    "net2.apply(init_weight)"
   ]
  },
  {
   "cell_type": "code",
   "execution_count": 7,
   "id": "ee7c7743-bc90-4880-a2d0-e1de1b9155d7",
   "metadata": {},
   "outputs": [
    {
     "data": {
      "text/plain": [
       "tensor([[-0.1679,  0.0947,  0.3635,  0.0927,  0.0092,  0.1930, -0.3149, -0.1485,\n",
       "         -0.7949,  0.0482],\n",
       "        [-0.1153,  0.1888, -0.1745, -0.0097, -0.2420,  0.2161, -0.0479, -0.0334,\n",
       "         -0.3964, -0.3766]], grad_fn=<AddmmBackward>)"
      ]
     },
     "execution_count": 7,
     "metadata": {},
     "output_type": "execute_result"
    }
   ],
   "source": [
    "net(X)"
   ]
  },
  {
   "cell_type": "code",
   "execution_count": 8,
   "id": "9ae6346d-e8b3-410d-8b2d-7a38c3626b3a",
   "metadata": {},
   "outputs": [
    {
     "data": {
      "text/plain": [
       "tensor([[ 0.1684,  0.0118, -0.0928, -0.1280, -0.4890, -0.0054, -0.1738,  0.0312,\n",
       "         -0.2108, -0.3239],\n",
       "        [ 0.0856, -0.0292,  0.1530, -0.0220, -0.3061, -0.3313, -0.4419,  0.0737,\n",
       "         -0.2861, -0.5115]], grad_fn=<AddmmBackward>)"
      ]
     },
     "execution_count": 8,
     "metadata": {},
     "output_type": "execute_result"
    }
   ],
   "source": [
    "net2(X)"
   ]
  },
  {
   "cell_type": "code",
   "execution_count": 10,
   "id": "d2eb3c61-edd6-4e5c-86e3-03a420820f20",
   "metadata": {},
   "outputs": [
    {
     "data": {
      "text/plain": [
       "MySequential()"
      ]
     },
     "execution_count": 10,
     "metadata": {},
     "output_type": "execute_result"
    }
   ],
   "source": [
    "net2"
   ]
  },
  {
   "cell_type": "code",
   "execution_count": null,
   "id": "6a02f1c0-3b21-432b-91c2-a0a438939bad",
   "metadata": {},
   "outputs": [],
   "source": []
  }
 ],
 "metadata": {
  "kernelspec": {
   "display_name": "py37",
   "language": "python",
   "name": "py37"
  },
  "language_info": {
   "codemirror_mode": {
    "name": "ipython",
    "version": 3
   },
   "file_extension": ".py",
   "mimetype": "text/x-python",
   "name": "python",
   "nbconvert_exporter": "python",
   "pygments_lexer": "ipython3",
   "version": "3.7.6"
  }
 },
 "nbformat": 4,
 "nbformat_minor": 5
}
