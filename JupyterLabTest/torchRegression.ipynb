{
 "cells": [
  {
   "cell_type": "code",
   "execution_count": 29,
   "id": "61bf1207-d666-4c5c-bda6-4e0f2d2b2d25",
   "metadata": {},
   "outputs": [],
   "source": [
    "import numpy as np\n",
    "import pandas as pd\n",
    "from torch.utils import data\n",
    "import torch\n",
    "df = pd.read_csv('./GF1_cleaned.csv')\n",
    "df.corr()['load'].sort_values(ascending=False)\n",
    "features = df.loc[:,['swr','T2m','T']]\n",
    "labels = df.loc[:,'load']\n",
    "\n",
    "from d2l import torch as d2l\n",
    "\n",
    "\n",
    "true_w = torch.tensor([2, -3.4])\n",
    "true_b = 4.2\n",
    "features, labels = d2l.synthetic_data(true_w, true_b, 1000)"
   ]
  },
  {
   "cell_type": "code",
   "execution_count": 30,
   "id": "5faea754-d7e9-4973-bafc-1a6723ecdc56",
   "metadata": {},
   "outputs": [],
   "source": [
    "def load_array(data_arrays,batch_size,is_train=True):\n",
    "    dataset = data.TensorDataset(*data_arrays)\n",
    "    return data.DataLoader(dataset,batch_size,shuffle=is_train)"
   ]
  },
  {
   "cell_type": "code",
   "execution_count": 31,
   "id": "35468365-befc-4c26-ac4e-d05b7fe74c1c",
   "metadata": {},
   "outputs": [],
   "source": [
    "# features = torch.from_numpy(features.values).to(torch.float32)"
   ]
  },
  {
   "cell_type": "code",
   "execution_count": 32,
   "id": "a67cebd6-e255-4500-bec6-61e29dcda0c1",
   "metadata": {},
   "outputs": [],
   "source": [
    "# labels = torch.from_numpy(labels.values).to(torch.float32)"
   ]
  },
  {
   "cell_type": "code",
   "execution_count": 33,
   "id": "c7e91b6a-12a6-45aa-8691-4750d9ab80c8",
   "metadata": {},
   "outputs": [],
   "source": [
    "data_iter = load_array((features,labels),64)"
   ]
  },
  {
   "cell_type": "code",
   "execution_count": 34,
   "id": "0a49104e-877d-4b81-b676-76ca3f9b0c20",
   "metadata": {},
   "outputs": [
    {
     "data": {
      "text/plain": [
       "[tensor([[ 0.7458, -2.0208],\n",
       "         [ 0.2093, -0.2736],\n",
       "         [-1.2580, -0.7694],\n",
       "         [ 0.6485,  0.2634],\n",
       "         [ 0.9532,  0.1315],\n",
       "         [ 0.7808, -0.2023],\n",
       "         [-0.4899,  0.6751],\n",
       "         [-0.9067,  1.3225],\n",
       "         [-1.6766, -0.2508],\n",
       "         [-0.8350, -1.0531],\n",
       "         [-0.3462, -0.9865],\n",
       "         [-0.4500, -1.8246],\n",
       "         [-0.1319, -0.5217],\n",
       "         [-0.4432,  0.6090],\n",
       "         [-1.8164,  1.5427],\n",
       "         [-0.7815, -0.5537],\n",
       "         [-1.0117, -0.0865],\n",
       "         [-0.1631,  0.6282],\n",
       "         [-1.5917,  0.4829],\n",
       "         [-0.4032,  0.5386],\n",
       "         [ 0.3130, -0.2684],\n",
       "         [-0.5911, -1.1354],\n",
       "         [-0.6230, -1.4979],\n",
       "         [ 1.0556,  1.1520],\n",
       "         [-0.3066,  1.1658],\n",
       "         [-1.0811, -2.4464],\n",
       "         [-1.0341, -1.3434],\n",
       "         [ 0.7355, -0.0255],\n",
       "         [-0.1106,  0.4987],\n",
       "         [-0.8550, -0.2376],\n",
       "         [ 0.1520,  0.7733],\n",
       "         [ 0.8968, -0.0201],\n",
       "         [ 1.4655,  0.3042],\n",
       "         [-2.4832,  1.9608],\n",
       "         [ 2.8396,  0.3917],\n",
       "         [-0.6709, -0.1517],\n",
       "         [ 0.5572, -0.6718],\n",
       "         [-1.1781, -1.9081],\n",
       "         [-0.7665, -0.7934],\n",
       "         [-0.1096, -0.5967],\n",
       "         [ 0.2828, -0.5737],\n",
       "         [-0.3385, -1.0840],\n",
       "         [ 0.3739,  0.4481],\n",
       "         [-0.6418,  0.7439],\n",
       "         [ 0.2508,  0.9898],\n",
       "         [-1.9893, -1.3751],\n",
       "         [ 0.3400,  0.5570],\n",
       "         [ 1.0571,  0.2390],\n",
       "         [ 1.5218, -1.8522],\n",
       "         [-0.1800,  1.6897],\n",
       "         [-0.2755, -0.2398],\n",
       "         [-0.4022, -0.7621],\n",
       "         [ 0.9099, -1.5332],\n",
       "         [-0.1481,  0.7397],\n",
       "         [-0.4542,  1.3089],\n",
       "         [-1.1158, -0.1601],\n",
       "         [-0.5660, -0.1234],\n",
       "         [ 0.8102,  1.0683],\n",
       "         [-0.1998, -1.5726],\n",
       "         [ 0.0637,  0.8933],\n",
       "         [-0.6675, -1.1156],\n",
       "         [ 0.1404,  1.1070],\n",
       "         [-1.0127,  0.7925],\n",
       "         [-0.3275, -1.2534]]),\n",
       " tensor([[12.5561],\n",
       "         [ 5.5367],\n",
       "         [ 4.3056],\n",
       "         [ 4.6008],\n",
       "         [ 5.6659],\n",
       "         [ 6.4556],\n",
       "         [ 0.9319],\n",
       "         [-2.1170],\n",
       "         [ 1.6957],\n",
       "         [ 6.1063],\n",
       "         [ 6.8647],\n",
       "         [ 9.4921],\n",
       "         [ 5.7101],\n",
       "         [ 1.2315],\n",
       "         [-4.6882],\n",
       "         [ 4.5460],\n",
       "         [ 2.4805],\n",
       "         [ 1.7434],\n",
       "         [-0.6216],\n",
       "         [ 1.5591],\n",
       "         [ 5.7340],\n",
       "         [ 6.8698],\n",
       "         [ 8.0539],\n",
       "         [ 2.3969],\n",
       "         [-0.3714],\n",
       "         [10.3603],\n",
       "         [ 6.6993],\n",
       "         [ 5.7684],\n",
       "         [ 2.2841],\n",
       "         [ 3.2854],\n",
       "         [ 1.8701],\n",
       "         [ 6.0345],\n",
       "         [ 6.1048],\n",
       "         [-7.4452],\n",
       "         [ 8.5687],\n",
       "         [ 3.3625],\n",
       "         [ 7.6072],\n",
       "         [ 8.3301],\n",
       "         [ 5.3640],\n",
       "         [ 6.0211],\n",
       "         [ 6.7313],\n",
       "         [ 7.1991],\n",
       "         [ 3.4199],\n",
       "         [ 0.3824],\n",
       "         [ 1.3196],\n",
       "         [ 4.9084],\n",
       "         [ 2.9759],\n",
       "         [ 5.4728],\n",
       "         [13.5285],\n",
       "         [-1.8958],\n",
       "         [ 4.4681],\n",
       "         [ 5.9970],\n",
       "         [11.2279],\n",
       "         [ 1.3988],\n",
       "         [-1.1729],\n",
       "         [ 2.5084],\n",
       "         [ 3.4982],\n",
       "         [ 2.1896],\n",
       "         [ 9.1467],\n",
       "         [ 1.2848],\n",
       "         [ 6.6738],\n",
       "         [ 0.7252],\n",
       "         [-0.5051],\n",
       "         [ 7.8052]])]"
      ]
     },
     "execution_count": 34,
     "metadata": {},
     "output_type": "execute_result"
    }
   ],
   "source": [
    "next(iter(data_iter))"
   ]
  },
  {
   "cell_type": "code",
   "execution_count": 35,
   "id": "51a07f13-38ab-45bf-a4bd-34890a804530",
   "metadata": {},
   "outputs": [],
   "source": [
    "from torch import nn\n",
    "net = nn.Sequential(nn.Linear(2,1))\n"
   ]
  },
  {
   "cell_type": "code",
   "execution_count": 36,
   "id": "743e5541-b42e-4355-82c7-08158d4dc1f2",
   "metadata": {},
   "outputs": [
    {
     "data": {
      "text/plain": [
       "tensor([[ 0.0075, -0.0043]])"
      ]
     },
     "execution_count": 36,
     "metadata": {},
     "output_type": "execute_result"
    }
   ],
   "source": [
    "net[0].weight.data.normal_(0,0.01).to(torch.float32)\n",
    "# net[0].bias.data.fill_(0).to(torch.float64)"
   ]
  },
  {
   "cell_type": "code",
   "execution_count": 37,
   "id": "48087c5f-14de-4756-a67e-10c784fb9bd6",
   "metadata": {},
   "outputs": [],
   "source": [
    "loss = nn.MSELoss()"
   ]
  },
  {
   "cell_type": "code",
   "execution_count": 38,
   "id": "ac74c70e-7055-4010-aa80-73a206100bce",
   "metadata": {},
   "outputs": [],
   "source": [
    "trainer = torch.optim.SGD(net.parameters(),lr=0.01)"
   ]
  },
  {
   "cell_type": "code",
   "execution_count": 39,
   "id": "30db8399-f4ab-4164-9669-2d5d51066f1e",
   "metadata": {},
   "outputs": [
    {
     "name": "stdout",
     "output_type": "stream",
     "text": [
      "epoch:0, loss:20.482242584228516\n",
      "epoch:1, loss:10.586194038391113\n",
      "epoch:2, loss:5.4908246994018555\n",
      "epoch:3, loss:2.852578639984131\n",
      "epoch:4, loss:1.4715337753295898\n",
      "epoch:5, loss:0.7617745399475098\n",
      "epoch:6, loss:0.3946164548397064\n",
      "epoch:7, loss:0.20569486916065216\n",
      "epoch:8, loss:0.10621901601552963\n",
      "epoch:9, loss:0.05502507463097572\n",
      "epoch:10, loss:0.028494441881775856\n",
      "epoch:11, loss:0.014800483360886574\n",
      "epoch:12, loss:0.007728023920208216\n",
      "epoch:13, loss:0.004054401535540819\n",
      "epoch:14, loss:0.0021411452908068895\n",
      "epoch:15, loss:0.001162411062978208\n",
      "epoch:16, loss:0.0006512081599794328\n",
      "epoch:17, loss:0.00038605034933425486\n",
      "epoch:18, loss:0.0002479087852407247\n",
      "epoch:19, loss:0.00017662954633124173\n",
      "epoch:20, loss:0.00013940704229753464\n",
      "epoch:21, loss:0.0001201151535497047\n",
      "epoch:22, loss:0.00010998095967806876\n",
      "epoch:23, loss:0.00010479894262971357\n",
      "epoch:24, loss:0.00010211650806013495\n",
      "epoch:25, loss:0.00010073853627545759\n",
      "epoch:26, loss:0.00010003404167946428\n",
      "epoch:27, loss:9.967468213289976e-05\n",
      "epoch:28, loss:9.948822116712108e-05\n",
      "epoch:29, loss:9.940040035871789e-05\n"
     ]
    }
   ],
   "source": [
    "num_epochs = 30\n",
    "for epoch in range(num_epochs):\n",
    "    for X,y in iter(data_iter):\n",
    "        l = loss(net(X),y)\n",
    "        trainer.zero_grad()\n",
    "        l.backward()\n",
    "        trainer.step()\n",
    "    l = loss(net(features),labels)\n",
    "    print(f'epoch:{epoch}, loss:{l}')"
   ]
  },
  {
   "cell_type": "code",
   "execution_count": null,
   "id": "910ae402-ca8b-44a0-b5e0-c3b73bf503e7",
   "metadata": {},
   "outputs": [],
   "source": []
  }
 ],
 "metadata": {
  "kernelspec": {
   "display_name": "py37",
   "language": "python",
   "name": "py37"
  },
  "language_info": {
   "codemirror_mode": {
    "name": "ipython",
    "version": 3
   },
   "file_extension": ".py",
   "mimetype": "text/x-python",
   "name": "python",
   "nbconvert_exporter": "python",
   "pygments_lexer": "ipython3",
   "version": "3.7.6"
  }
 },
 "nbformat": 4,
 "nbformat_minor": 5
}
