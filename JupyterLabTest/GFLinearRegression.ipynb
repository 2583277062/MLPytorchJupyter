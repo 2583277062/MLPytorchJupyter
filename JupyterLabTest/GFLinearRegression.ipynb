{
 "cells": [
  {
   "cell_type": "code",
   "execution_count": 1,
   "id": "ef0291d5-6398-437d-8d0c-681f9572e5c3",
   "metadata": {},
   "outputs": [],
   "source": [
    "%matplotlib inline\n",
    "import random\n",
    "import torch\n",
    "from d2l import torch as d2l"
   ]
  },
  {
   "cell_type": "code",
   "execution_count": 129,
   "id": "df41b4d6-c45e-4b12-9a28-55e70641cb65",
   "metadata": {},
   "outputs": [],
   "source": [
    "import pandas as pd\n",
    "df = pd.read_csv('./GF1_cleaned.csv')\n",
    "df.corr()['load'].sort_values(ascending=False)\n",
    "features = df.loc[:,['swr','T2m','T']]\n",
    "labels = df.loc[:,'load']"
   ]
  },
  {
   "cell_type": "code",
   "execution_count": 130,
   "id": "bdbd0014-a476-45b4-9504-5169588efe79",
   "metadata": {},
   "outputs": [],
   "source": [
    "def data_iter(batch_size, features, labels):\n",
    "    num_examples = len(features)\n",
    "    indices = list(range(num_examples))\n",
    "    random.shuffle(indices)\n",
    "    for i in range(0,num_examples,batch_size):\n",
    "        batch_indices = torch.tensor(indices[i:min(i+ batch_size,num_examples)])\n",
    "        yield features[batch_indices], labels[batch_indices].reshape(-1,1)"
   ]
  },
  {
   "cell_type": "code",
   "execution_count": 131,
   "id": "62c785da-34ed-4d71-9090-c68507756aea",
   "metadata": {},
   "outputs": [
    {
     "data": {
      "text/plain": [
       "torch.Size([38686, 3])"
      ]
     },
     "execution_count": 131,
     "metadata": {},
     "output_type": "execute_result"
    }
   ],
   "source": [
    "features = torch.tensor(features.values).to(torch.float32)\n",
    "features.shape"
   ]
  },
  {
   "cell_type": "code",
   "execution_count": 132,
   "id": "5d97c6a6-6d32-4a8f-8e89-692b7e1a44fe",
   "metadata": {},
   "outputs": [
    {
     "data": {
      "text/plain": [
       "torch.Size([38686])"
      ]
     },
     "execution_count": 132,
     "metadata": {},
     "output_type": "execute_result"
    }
   ],
   "source": [
    "labels = torch.tensor(labels.values).to(torch.float32)\n",
    "labels.shape"
   ]
  },
  {
   "cell_type": "code",
   "execution_count": 133,
   "id": "e692c873-7c54-4e0a-bc31-be22b1e4c1b3",
   "metadata": {},
   "outputs": [
    {
     "name": "stdout",
     "output_type": "stream",
     "text": [
      "tensor([[6.0710e+01, 2.7397e+02, 2.8032e+02],\n",
      "        [2.0700e+00, 2.9251e+02, 2.9273e+02],\n",
      "        [2.8900e+00, 2.6947e+02, 2.6935e+02],\n",
      "        [1.8000e+00, 2.6339e+02, 2.6968e+02],\n",
      "        [1.8600e+00, 2.7438e+02, 2.7836e+02],\n",
      "        [8.0421e+02, 2.9460e+02, 2.9225e+02],\n",
      "        [2.9240e+02, 2.8574e+02, 2.8456e+02],\n",
      "        [3.0500e+00, 2.7414e+02, 2.7746e+02],\n",
      "        [2.5300e+00, 2.9181e+02, 2.9274e+02],\n",
      "        [5.9000e-01, 3.0237e+02, 3.0339e+02]]) \n",
      " tensor([[ 7.4301],\n",
      "        [ 0.0000],\n",
      "        [ 0.0000],\n",
      "        [ 0.0000],\n",
      "        [ 0.0000],\n",
      "        [40.7114],\n",
      "        [ 5.0365],\n",
      "        [ 0.0000],\n",
      "        [ 0.0000],\n",
      "        [ 0.0000]])\n"
     ]
    }
   ],
   "source": [
    "for X,y in data_iter(10, features,labels):\n",
    "    print(X,'\\n',y)\n",
    "    break"
   ]
  },
  {
   "cell_type": "code",
   "execution_count": 134,
   "id": "128395c4-7c60-4061-8067-1243ee37b70b",
   "metadata": {},
   "outputs": [],
   "source": [
    "w = torch.normal(0, 0.01, size=(3,1), requires_grad=True).to(torch.float32)\n",
    "b = torch.zeros(1, requires_grad=True).to(torch.float32)"
   ]
  },
  {
   "cell_type": "code",
   "execution_count": 135,
   "id": "c249bb2e-a437-4f82-adcb-b5d9152b6ee3",
   "metadata": {},
   "outputs": [
    {
     "data": {
      "text/plain": [
       "tensor([[ 0.0071],\n",
       "        [-0.0086],\n",
       "        [-0.0005]], requires_grad=True)"
      ]
     },
     "execution_count": 135,
     "metadata": {},
     "output_type": "execute_result"
    }
   ],
   "source": [
    "w"
   ]
  },
  {
   "cell_type": "code",
   "execution_count": 136,
   "id": "89a4f327-da8f-4774-a668-94882861cf3b",
   "metadata": {},
   "outputs": [
    {
     "data": {
      "text/plain": [
       "tensor([0.], requires_grad=True)"
      ]
     },
     "execution_count": 136,
     "metadata": {},
     "output_type": "execute_result"
    }
   ],
   "source": [
    "b"
   ]
  },
  {
   "cell_type": "code",
   "execution_count": 137,
   "id": "7e41e8af-c4f6-4286-b36f-fe749d92eadc",
   "metadata": {},
   "outputs": [],
   "source": [
    "def linreg(X, w, b):  #@save\n",
    "    \"\"\"线性回归模型。\"\"\"\n",
    "    return torch.matmul(X, w) + b"
   ]
  },
  {
   "cell_type": "code",
   "execution_count": 138,
   "id": "eb6e6a22-a95d-4329-89a7-aefa3edc4a04",
   "metadata": {},
   "outputs": [],
   "source": [
    "def squared_loss(y_hat, y):  #@save\n",
    "    \"\"\"均方损失。\"\"\"\n",
    "    return (y_hat - y.reshape(y_hat.shape)) ** 2 / 2"
   ]
  },
  {
   "cell_type": "code",
   "execution_count": 139,
   "id": "e1705aa1-112a-48b8-a220-9e2a480c4a21",
   "metadata": {},
   "outputs": [],
   "source": [
    "def sgd(params,lr,batch_size):\n",
    "    with torch.no_grad():\n",
    "        for param in params:\n",
    "            param -= lr * param.grad/batch_size\n",
    "            param.grad.zero_()"
   ]
  },
  {
   "cell_type": "code",
   "execution_count": 140,
   "id": "b2379347-99e8-4796-99b7-d36d470b71e4",
   "metadata": {},
   "outputs": [
    {
     "name": "stdout",
     "output_type": "stream",
     "text": [
      "epoch:0,loss:nan\n",
      "epoch:1,loss:nan\n",
      "epoch:2,loss:nan\n",
      "epoch:3,loss:nan\n",
      "epoch:4,loss:nan\n",
      "epoch:5,loss:nan\n",
      "epoch:6,loss:nan\n",
      "epoch:7,loss:nan\n",
      "epoch:8,loss:nan\n",
      "epoch:9,loss:nan\n"
     ]
    }
   ],
   "source": [
    "num_epochs = 10\n",
    "lr = 0.01\n",
    "net = linreg\n",
    "loss = squared_loss\n",
    "\n",
    "for epoch in range(num_epochs):\n",
    "    for X,y in data_iter(20,features,labels):\n",
    "        l = loss(net(X,w,b),y)\n",
    "        l.sum().backward()\n",
    "        sgd([w,b],lr,20)\n",
    "#         print(f'epoch{epoch}, w:{w},b:{b}')\n",
    "    with torch.no_grad():\n",
    "        train_l = loss(net(features,w,b),labels)\n",
    "        print(f'epoch:{epoch},loss:{float(train_l.mean())}')"
   ]
  }
 ],
 "metadata": {
  "kernelspec": {
   "display_name": "py37",
   "language": "python",
   "name": "py37"
  },
  "language_info": {
   "codemirror_mode": {
    "name": "ipython",
    "version": 3
   },
   "file_extension": ".py",
   "mimetype": "text/x-python",
   "name": "python",
   "nbconvert_exporter": "python",
   "pygments_lexer": "ipython3",
   "version": "3.7.6"
  }
 },
 "nbformat": 4,
 "nbformat_minor": 5
}
